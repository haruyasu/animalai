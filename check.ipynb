{
 "cells": [
  {
   "cell_type": "code",
   "execution_count": 5,
   "metadata": {},
   "outputs": [],
   "source": [
    "from PIL import Image\n",
    "import os, glob\n",
    "import numpy as np\n",
    "from sklearn import model_selection\n",
    "\n",
    "classes = [\"monkey\", \"boar\", \"crow\"]\n",
    "num_classes = len(classes)\n",
    "image_size = 50\n",
    "\n",
    "X = []\n",
    "Y = []\n",
    "for index, classlabel in enumerate(classes):\n",
    "    photos_dir = \"./\" + classlabel\n",
    "    files = glob.glob(photos_dir + \"/*.jpg\")\n",
    "    for i, file in enumerate(files):\n",
    "        if i >= 200:\n",
    "            break\n",
    "        image = Image.open(file)\n",
    "        image = image.convert(\"RGB\")\n",
    "        image = image.resize((image_size, image_size))\n",
    "        data = np.asarray(image)\n",
    "        X.append(data)\n",
    "        Y.append(index)\n",
    "\n",
    "X = np.array(X)\n",
    "Y = np.array(Y)\n",
    "\n",
    "X_train, X_test, y_train, y_test = model_selection.train_test_split(X, Y)\n",
    "xy = (X_train, X_test, y_train, y_test)\n",
    "np.save(\"./animal.npy\", xy)\n"
   ]
  },
  {
   "cell_type": "code",
   "execution_count": 6,
   "metadata": {},
   "outputs": [
    {
     "data": {
      "text/plain": [
       "381"
      ]
     },
     "execution_count": 6,
     "metadata": {},
     "output_type": "execute_result"
    }
   ],
   "source": [
    "len(X_train)"
   ]
  },
  {
   "cell_type": "code",
   "execution_count": 7,
   "metadata": {},
   "outputs": [
    {
     "data": {
      "text/plain": [
       "127"
      ]
     },
     "execution_count": 7,
     "metadata": {},
     "output_type": "execute_result"
    }
   ],
   "source": [
    "len(X_test)"
   ]
  },
  {
   "cell_type": "code",
   "execution_count": 8,
   "metadata": {},
   "outputs": [
    {
     "data": {
      "text/plain": [
       "array([[[ 94,  85,  70],\n",
       "        [ 93,  86,  68],\n",
       "        [ 92,  85,  67],\n",
       "        ...,\n",
       "        [ 93,  87,  71],\n",
       "        [ 93,  87,  71],\n",
       "        [ 94,  88,  72]],\n",
       "\n",
       "       [[103,  94,  79],\n",
       "        [103,  96,  78],\n",
       "        [102,  95,  77],\n",
       "        ...,\n",
       "        [ 94,  86,  73],\n",
       "        [ 93,  85,  72],\n",
       "        [ 94,  86,  73]],\n",
       "\n",
       "       [[113, 104,  89],\n",
       "        [111, 104,  86],\n",
       "        [108, 101,  83],\n",
       "        ...,\n",
       "        [ 94,  86,  73],\n",
       "        [ 93,  85,  72],\n",
       "        [ 93,  85,  72]],\n",
       "\n",
       "       ...,\n",
       "\n",
       "       [[100, 104,  89],\n",
       "        [ 99, 103,  88],\n",
       "        [103, 107,  92],\n",
       "        ...,\n",
       "        [ 96,  95, 101],\n",
       "        [ 43,  43,  45],\n",
       "        [ 10,  10,  12]],\n",
       "\n",
       "       [[ 98, 101,  92],\n",
       "        [ 95,  98,  87],\n",
       "        [103, 107,  93],\n",
       "        ...,\n",
       "        [100,  99, 107],\n",
       "        [ 59,  58,  63],\n",
       "        [  6,   6,   8]],\n",
       "\n",
       "       [[105, 108, 101],\n",
       "        [104, 107,  96],\n",
       "        [111, 115, 100],\n",
       "        ...,\n",
       "        [101, 100, 108],\n",
       "        [ 68,  67,  73],\n",
       "        [  3,   2,   7]]], dtype=uint8)"
      ]
     },
     "execution_count": 8,
     "metadata": {},
     "output_type": "execute_result"
    }
   ],
   "source": [
    "X_train[100]"
   ]
  },
  {
   "cell_type": "code",
   "execution_count": null,
   "metadata": {},
   "outputs": [],
   "source": []
  }
 ],
 "metadata": {
  "kernelspec": {
   "display_name": "Python 3",
   "language": "python",
   "name": "python3"
  },
  "language_info": {
   "codemirror_mode": {
    "name": "ipython",
    "version": 3
   },
   "file_extension": ".py",
   "mimetype": "text/x-python",
   "name": "python",
   "nbconvert_exporter": "python",
   "pygments_lexer": "ipython3",
   "version": "3.7.3"
  }
 },
 "nbformat": 4,
 "nbformat_minor": 2
}
